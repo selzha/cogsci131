{
 "cells": [
  {
   "cell_type": "code",
   "execution_count": 2,
   "metadata": {},
   "outputs": [],
   "source": [
    "import numpy as np\n",
    "import random\n",
    "import re\n",
    "from PyDictionary import PyDictionary\n",
    "dictionary = PyDictionary()"
   ]
  },
  {
   "cell_type": "markdown",
   "metadata": {},
   "source": [
    "## CogSci 131 - Assignment 4\n",
    "Selena Zhang"
   ]
  },
  {
   "cell_type": "markdown",
   "metadata": {},
   "source": [
    "## Question 1"
   ]
  },
  {
   "cell_type": "markdown",
   "metadata": {},
   "source": [
    "List of rules:\n",
    "**One variable:**\n",
    "1. I <1> coffee -> OH REALLY. TELL ME MORE ABOUT WHY YOU <1> COFFEE\n",
    "2. Drink is <1> -> <1> ISN'T THAT GOOD. TRY SOME OTHER DRINK?\n",
    "3. Coffee makes me <1> -> MAYBE <1> IS A NATURAL SIDE EFFECT OF COFFEE DON'T YOU THINK?\n",
    "4. I like <1> -> WELL I PREFER <1> SOMETIMES, BUT WHAT OTHER DRINKS DO YOU LIKE?\n",
    "5. <1> cup -> IS <1> CUPS A DAY TOO MUCH FOR YOU?\n",
    "6. <1> roast -> <1> MEANS YOU NEED TO DRINK MORE COFFEE\n",
    "7. Yes <1> -> I AM GLAD YOU AGREE <1>.\n",
    "8. No <1> -> VERY UNFORTUNATE THAT YOU DISAGREE <2>.\n",
    "9. Not sure <1> -> WELL MAKE UP YOUR MIND <1>.\n",
    "10. try <1> -> TRY <1> AS SOON AS YOU CAN.\n",
    "11. OK <1> -> OK SURE.\n",
    "\n",
    "**Two variables:**\n",
    "1. <1> like <2> -> WHY DO <1> LIKE <2>.\n",
    "2. favorite <1> is <2> -> THAT'S GOOD TO KNOW THAT YOUR FAVORITE <1> IS <2>.\n",
    "3. <1> hate <2> -> IF <1> HATE <2>, THAT'S YOUR OWN OPINION.\n",
    "4. <1> in the <2> -> CAN YOU TELL ME HOW <1> IN THE <2>?\n",
    "5. <1> iced <2> -> IT IS TOO COLD OUTSIDE TO <1> ICED <2>, RIGHT?\n",
    "6. <1> hot <2> -> HOT <2> IS THE BEST."
   ]
  },
  {
   "cell_type": "code",
   "execution_count": 3,
   "metadata": {},
   "outputs": [
    {
     "name": "stdout",
     "output_type": "stream",
     "text": [
      "Hi, I'm CoffeeBot. Talk to me about coffee-related matters!\n",
      "(Typing 'Bye' will end this bot)\n",
      "What do you want to say? I like coffee\n",
      "ELIZA: OH REALLY. TELL ME MORE ABOUT WHY YOU LIKE COFFEE.\n",
      "You: Bye\n"
     ]
    }
   ],
   "source": [
    "#lists of rules in order of what's above\n",
    "rules = [\n",
    "    [r\"I (.+) coffee\", 'OH REALLY. TELL ME MORE ABOUT WHY YOU {} COFFEE.'],\n",
    "        [r\"drink is (.+)\" , \"{} ISN'T THAT GOOD. TRY SOME OTHER DRINK?\"],\n",
    "        [r\"Coffee makes me (.+)\", \"MAYBE {} IS A NATURAL SIDE EFFECT OF COFFEE DON'T YOU THINK?\"],\n",
    "        [r\"I like (.+)\" , \"WELL I PREFER {} SOMETIMES, BUT WHAT OTHER DRINKS DO YOU LIKE?\"],\n",
    "        [r\"(.?) cup\", \"IS {} CUPS A DAY TOO MUCH FOR YOU?\"],\n",
    "        [r\"(.+) roast\", \"{} ROAST MEANS YOU NEED TO DRINK MORE COFFEE.\"],\n",
    "        [r\"Yes (.+)\", \"I AM GLAD YOU AGREE ON {}\"],\n",
    "        [r\"No (.+)\", \"VERY UNFORTUNATE THAT YOU DISAGREE.\"],\n",
    "        [r\"Not sure (.+)\", \"WELL MAKE UP YOUR MIND ABOUT {}.\"],\n",
    "        [r\" try (.+)\", \"TRY {} AS SOON AS YOU CAN.\"],\n",
    "        [r\"Ok (.+)\", \"OK SURE.\"],\n",
    "        [r\"favorite (.+) is (.+)\", \"THAT'S GOOD TO KNOW THAT YOUR FAVORITE {} IS {}.\"],\n",
    "        [r\"(.+) like (.+)\", \"WHY DO {} LIKE {}\"],\n",
    "        [r\"(.+) hate (.+)\", \"IF {} HATE {}, THAT'S YOUR OWN OPINION.\"],\n",
    "        [r\"(.+) in the (.+)\", \"CAN YOU TELL ME HOW {} IN THE {}?\"],\n",
    "        [r\"(.+) iced (.+)\", \"IT IS TOO COLD OUTSIDE TO {} ICED {}, RIGHT?\"],\n",
    "        [r\"(.+) hot (.+)\", \"{} HOT {} IS THE BEST.\"]\n",
    "            ] \n",
    "\n",
    "def eliza():\n",
    "    #preamble\n",
    "    print(\"Hi, I'm CoffeeBot. Talk to me about coffee-related matters!\")\n",
    "    print(\"(Typing 'Bye' will end this bot)\")\n",
    "    text = input(\"What do you want to say? \")\n",
    "    #typing Bye ends the chat bot\n",
    "    while text != 'Bye':\n",
    "        #array with all possible responses\n",
    "        matchlist = []\n",
    "        #finding if there's a pattern match for any of the rules\n",
    "        for pattern, elizaresponse in rules:\n",
    "            match = re.search(pattern, text.strip())\n",
    "            if match:\n",
    "                #find the key words\n",
    "                group = match.groups()\n",
    "                #how many key words? 3 cases\n",
    "                #1 key word\n",
    "                if len(group) == 1:\n",
    "                    grouplist = list(group)\n",
    "                    response = elizaresponse.format(grouplist[0])\n",
    "                    matchlist.append(response.upper())\n",
    "                #no key words\n",
    "                elif len(group) == 0:\n",
    "                    pass\n",
    "                #2 key words\n",
    "                elif len(group) == 2:\n",
    "                    grouplist2 = list(group)\n",
    "                    response = elizaresponse.format(grouplist2[0], grouplist2[1])\n",
    "                    matchlist.append(response.upper())\n",
    "        #randomly choose from the possible responses\n",
    "        if len(matchlist) != 0: \n",
    "            select = random.choice(matchlist)\n",
    "            print(\"ELIZA: \" + select)\n",
    "            matchlist.clear()\n",
    "        #if nothing matches\n",
    "        else:\n",
    "            print(\"ELIZA: I'm sorry. I don't understand. I can only talk about coffee\")\n",
    "        #repeat\n",
    "        text = input(\"You: \")\n",
    "eliza()"
   ]
  },
  {
   "cell_type": "markdown",
   "metadata": {},
   "source": [
    "If more than one rule matched, I stored the response in an array and then used the random.choice() function to uniformly select one of the possible responses. For instance, if it only matched one rule, then the array would just have that one match, and a random sample of an array with one item will always give that one item. If there are more than one matches, the array will have more than one item, and the random.choice() function will uniformly pick between any one of them. Here are examples where I pass the same response four times, which matches Rule 1, 4, and 10. "
   ]
  },
  {
   "cell_type": "markdown",
   "metadata": {},
   "source": [
    "Pseudocode:   \n",
    "call eliza():    \n",
    "user_input = \"I like coffee\"   \n",
    "while loop to check if user_input is not \"Bye\":  \n",
    "    iterate over pattern and responses in the rules   \n",
    "    match = re.match finds a match for user_input and the pattern   \n",
    "    if there is a match:   \n",
    "        create matcharray = []    \n",
    "        length = length of match.groups() tuple   \n",
    "            if length == 1:   \n",
    "                one variable,    \n",
    "                response1 = responses.format(tuple[0])    \n",
    "                append response1 to matcharray   \n",
    "            else if length == 2:   \n",
    "                two variables    \n",
    "                response2 =responses.format(tuple[0], tuple[1])    \n",
    "                append response2 to matcharray   \n",
    "            if length == 0:   \n",
    "                no variables or no match, pass.   \n",
    "         continue to iterate over every rule in rules: if there is a match, it will be appended   \n",
    "   matcharray = [response1, response2, response.....]   \n",
    "   randomly select something from matcharray.   "
   ]
  },
  {
   "cell_type": "code",
   "execution_count": 106,
   "metadata": {},
   "outputs": [
    {
     "name": "stdout",
     "output_type": "stream",
     "text": [
      "Hi, I'm CoffeeBot. Talk to me about coffee-related matters!\n",
      "(Typing 'Bye' will end this bot)\n",
      "What do you want to say? I like coffee\n",
      "ELIZA: OH REALLY. TELL ME MORE ABOUT WHY YOU LIKE COFFEE.\n",
      "You: I like coffee\n",
      "ELIZA: WELL I PREFER COFFEE SOMETIMES, BUT WHAT OTHER DRINKS DO YOU LIKE?\n",
      "You: I like coffee\n",
      "ELIZA: WHY DO I LIKE COFFEE\n",
      "You: Bye\n"
     ]
    }
   ],
   "source": [
    "eliza()"
   ]
  },
  {
   "cell_type": "markdown",
   "metadata": {},
   "source": [
    "## Question 2"
   ]
  },
  {
   "cell_type": "markdown",
   "metadata": {},
   "source": [
    "Me interacting with the bot:"
   ]
  },
  {
   "cell_type": "code",
   "execution_count": 133,
   "metadata": {
    "scrolled": false
   },
   "outputs": [
    {
     "name": "stdout",
     "output_type": "stream",
     "text": [
      "Hi, I'm CoffeeBot. Talk to me about coffee-related matters!\n",
      "(Typing 'Bye' will end this bot)\n",
      "What do you want to say? I like coffee\n",
      "ELIZA: OH REALLY. TELL ME MORE ABOUT WHY YOU LIKE COFFEE.\n",
      "You: Coffee makes me feel jittery\n",
      "ELIZA: MAYBE FEEL JITTERY IS A NATURAL SIDE EFFECT OF COFFEE DON'T YOU THINK?\n",
      "You: Yes maybe\n",
      "ELIZA: I AM GLAD YOU AGREE ON MAYBE\n",
      "You: My favorite drink is a flat white\n",
      "ELIZA: THAT'S GOOD TO KNOW THAT YOUR FAVORITE DRINK IS A FLAT WHITE.\n",
      "You: Sometimes I drink iced flat whites\n",
      "ELIZA: IT IS TOO COLD OUTSIDE TO SOMETIMES I DRINK ICED FLAT WHITES, RIGHT?\n",
      "You: Other times I drink hot flat whites\n",
      "ELIZA: OTHER TIMES I DRINK HOT FLAT WHITES IS THE BEST.\n",
      "You: I drink 3 cups a day\n",
      "ELIZA: IS 3 CUPS A DAY TOO MUCH FOR YOU?\n",
      "You: No not at all\n",
      "ELIZA: VERY UNFORTUNATE THAT YOU DISAGREE.\n",
      "You: Dark roast is good\n",
      "ELIZA: DARK ROAST MEANS YOU NEED TO DRINK MORE COFFEE.\n",
      "You: Yes this is true\n",
      "ELIZA: I AM GLAD YOU AGREE ON THIS IS TRUE\n",
      "You: Coffee makes me feel awake\n",
      "ELIZA: MAYBE FEEL AWAKE IS A NATURAL SIDE EFFECT OF COFFEE DON'T YOU THINK?\n",
      "You: I like flat whites\n",
      "ELIZA: WELL I PREFER FLAT WHITES SOMETIMES, BUT WHAT OTHER DRINKS DO YOU LIKE?\n",
      "You: I like cappucinos\n",
      "ELIZA: WHY DO I LIKE CAPPUCINOS\n",
      "You: My favorite milk is oat milk\n",
      "ELIZA: THAT'S GOOD TO KNOW THAT YOUR FAVORITE MILK IS OAT MILK.\n",
      "You: I like hot oat milk\n",
      "ELIZA: WHY DO I LIKE HOT OAT MILK\n",
      "You: I want to try espresso\n",
      "ELIZA: TRY ESPRESSO AS SOON AS YOU CAN.\n",
      "You: How are you?\n",
      "ELIZA: I'm sorry. I don't understand. I can only talk about coffee\n",
      "You: Ok\n",
      "ELIZA: I'm sorry. I don't understand. I can only talk about coffee\n",
      "You: Ok thanks\n",
      "ELIZA: OK SURE.\n",
      "You: I hate tea\n",
      "ELIZA: IF I HATE TEA, THAT'S YOUR OWN OPINION.\n",
      "You: I pour milk into my flat white\n",
      "ELIZA: I'm sorry. I don't understand. I can only talk about coffee\n",
      "You: I pour milk in the flat white\n",
      "ELIZA: CAN YOU TELL ME HOW I POUR MILK IN THE FLAT WHITE?\n",
      "You: No sorry\n",
      "ELIZA: VERY UNFORTUNATE THAT YOU DISAGREE.\n",
      "You: This was a fun conversation\n",
      "ELIZA: I'm sorry. I don't understand. I can only talk about coffee\n",
      "You: Bye\n"
     ]
    }
   ],
   "source": [
    "eliza()"
   ]
  },
  {
   "cell_type": "markdown",
   "metadata": {},
   "source": [
    "My friend interacting with the bot:"
   ]
  },
  {
   "cell_type": "code",
   "execution_count": 4,
   "metadata": {},
   "outputs": [
    {
     "name": "stdout",
     "output_type": "stream",
     "text": [
      "Hi, I'm CoffeeBot. Talk to me about coffee-related matters!\n",
      "(Typing 'Bye' will end this bot)\n",
      "What do you want to say? What is italian espresso\n",
      "ELIZA: I'm sorry. I don't understand. I can only talk about coffee\n",
      "You: do you like coffee\n",
      "ELIZA: WHY DO DO YOU LIKE COFFEE\n",
      "You: because it tastes nice and bitter\n",
      "ELIZA: I'm sorry. I don't understand. I can only talk about coffee\n",
      "You: It tastes nice\n",
      "ELIZA: I'm sorry. I don't understand. I can only talk about coffee\n",
      "You: Do you take coffee with milk\n",
      "ELIZA: I'm sorry. I don't understand. I can only talk about coffee\n",
      "You: coffee or tea?\n",
      "ELIZA: I'm sorry. I don't understand. I can only talk about coffee\n",
      "You: coffee\n",
      "ELIZA: I'm sorry. I don't understand. I can only talk about coffee\n",
      "You: flat white\n",
      "ELIZA: I'm sorry. I don't understand. I can only talk about coffee\n",
      "You: What is coffee\n",
      "ELIZA: I'm sorry. I don't understand. I can only talk about coffee\n",
      "You: Why does coffee taste good?\n",
      "ELIZA: I'm sorry. I don't understand. I can only talk about coffee\n",
      "You: Is coffee fun?\n",
      "ELIZA: I'm sorry. I don't understand. I can only talk about coffee\n",
      "You: I like coffee \n",
      "ELIZA: WHY DO I LIKE COFFEE\n",
      "You: I like coffee because it tastes nice and bitter\n",
      "ELIZA: WHY DO I LIKE COFFEE BECAUSE IT TASTES NICE AND BITTER\n",
      "You: Coffee is my favorite drink\n",
      "ELIZA: I'm sorry. I don't understand. I can only talk about coffee\n",
      "You: Coffee in the morning is a great way to start your day\n",
      "ELIZA: CAN YOU TELL ME HOW COFFEE IN THE MORNING IS A GREAT WAY TO START YOUR DAY?\n",
      "You: It wakes me up, gives me energy, and keeps me focused throughout the day \n",
      "ELIZA: I'm sorry. I don't understand. I can only talk about coffee\n",
      "You: Coffee makes me feel happy and invigorated \n",
      "ELIZA: MAYBE FEEL HAPPY AND INVIGORATED IS A NATURAL SIDE EFFECT OF COFFEE DON'T YOU THINK?\n",
      "You: yes it is because coffee is meant to caffeinate the body significantly \n",
      "ELIZA: I'm sorry. I don't understand. I can only talk about coffee\n",
      "You: I prefer coffee over tea\n",
      "ELIZA: OH REALLY. TELL ME MORE ABOUT WHY YOU PREFER COFFEE.\n",
      "You: I prefer coffee because it gives me more energy and tastes better\n",
      "ELIZA: OH REALLY. TELL ME MORE ABOUT WHY YOU PREFER COFFEE.\n",
      "You: I prefer coffee furthermore because it's bitter \n",
      "ELIZA: OH REALLY. TELL ME MORE ABOUT WHY YOU PREFER COFFEE.\n",
      "You: I like pouring milk in coffee\n",
      "ELIZA: WHY DO I LIKE POURING MILK IN COFFEE\n",
      "You: Coffee should be poured in the river\n",
      "ELIZA: CAN YOU TELL ME HOW COFFEE SHOULD BE POURED IN THE RIVER?\n",
      "You: It should be poured vigorously with full effort and gigantic amounts of force\n",
      "ELIZA: I'm sorry. I don't understand. I can only talk about coffee\n",
      "You: Coffee is only for Stanfurd losers\n",
      "ELIZA: I'm sorry. I don't understand. I can only talk about coffee\n",
      "You: Coffee is only for stanford losers\n",
      "ELIZA: I'm sorry. I don't understand. I can only talk about coffee\n",
      "You: Coffee is only for stanford losers\n",
      "ELIZA: I'm sorry. I don't understand. I can only talk about coffee\n",
      "You: Bye\n"
     ]
    }
   ],
   "source": [
    "eliza()"
   ]
  },
  {
   "cell_type": "markdown",
   "metadata": {},
   "source": [
    "Vinay's impressions: this chatbot is useless, cannot hold a conversation at any length, no audio visual cortex, cannot form words and sentences properly, does not have command of the English language, he would suggest artificial intelligence. However, it performs as expected, and its pretty fast, so it's pretty efficient. It speaks faster than a human so it is very satisfying."
   ]
  },
  {
   "cell_type": "markdown",
   "metadata": {},
   "source": [
    "## Question 3"
   ]
  },
  {
   "cell_type": "markdown",
   "metadata": {},
   "source": [
    "There are several ways I would have improved the bot: First, I would have included a function to modify each word so that it was more grammatically correct in the context of the response. This could include \"mirroring\" pronouns so then that way if the person said \"I\" or \"my\", the bot would be able to change the bot to say \"You, your,\" as well as changing the tense of each word (\"walk\" to \"walked\", etc) for it to sound better in the sentence."
   ]
  },
  {
   "cell_type": "markdown",
   "metadata": {},
   "source": [
    "## Question 4"
   ]
  },
  {
   "cell_type": "markdown",
   "metadata": {},
   "source": [
    "\"Tell me how tall the Campanile is\".\n",
    "No one's bot is programmed to handle questions and write back an answer, because it is trying to look for key words and then fill them in to a prewritten response. A human would tell you that \"the Campanile is 300 feet\" with no problem (or at least give a reasonable estimate), but a bot may end up mistakening the question altogether (\"Tell me about your thoughts on the Campanile\"...) because it does not have outside information unless a coder specifically accounted for it"
   ]
  }
 ],
 "metadata": {
  "kernelspec": {
   "display_name": "Python 3",
   "language": "python",
   "name": "python3"
  },
  "language_info": {
   "codemirror_mode": {
    "name": "ipython",
    "version": 3
   },
   "file_extension": ".py",
   "mimetype": "text/x-python",
   "name": "python",
   "nbconvert_exporter": "python",
   "pygments_lexer": "ipython3",
   "version": "3.7.1"
  }
 },
 "nbformat": 4,
 "nbformat_minor": 4
}
