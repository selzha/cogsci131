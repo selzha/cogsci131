{
 "cells": [
  {
   "cell_type": "code",
   "execution_count": 3,
   "metadata": {},
   "outputs": [],
   "source": [
    "import pandas as pd\n",
    "import numpy as np\n",
    "import matplotlib.pyplot as plt"
   ]
  },
  {
   "cell_type": "markdown",
   "metadata": {},
   "source": [
    "# Cogsci 131 - Assignment 10\n",
    "Selena Zhang"
   ]
  },
  {
   "cell_type": "markdown",
   "metadata": {},
   "source": [
    "## Question 1\n",
    "The entropy of all the words in the English language is the average number of bits of information that we need in order to determine which word we want. Below, we can see that the calculated entropy is 8.93819."
   ]
  },
  {
   "cell_type": "code",
   "execution_count": 10,
   "metadata": {},
   "outputs": [
    {
     "data": {
      "text/plain": [
       "8.938139929017918"
      ]
     },
     "execution_count": 10,
     "metadata": {},
     "output_type": "execute_result"
    }
   ],
   "source": [
    "df = pd.read_csv(\"Assignment10-WordFrequencies.csv\", header=None, names=[\"words\", \"frequency\"])\n",
    "def hx(inp):\n",
    "    #takes in list of probabilities and then takes the log, returns sum.\n",
    "    summ = 0\n",
    "    for i in inp:\n",
    "        summ += np.log2(i)*-i\n",
    "    return summ\n",
    "#setup\n",
    "p = []\n",
    "freq = []\n",
    "count = 0\n",
    "\n",
    "for i in range(len(df[\"words\"])):\n",
    "    freq.append(df.loc[i][1])\n",
    "    count += freq[i]\n",
    "\n",
    "for i in range(len(df[\"words\"])):\n",
    "    p.append(freq[i]/count)\n",
    "\n",
    "hx(p)"
   ]
  },
  {
   "cell_type": "markdown",
   "metadata": {},
   "source": [
    "## Question 2\n",
    "The 20 questions game is fair if you choose the word by frequency. A game, by definition, is fair if you can win at least 50% of the time. We calculated the entropy of the English language to be around 9, which is less than 20. This means that, on average, you would need 9 tries in order to guess the word. You have 11 additional questions, so you could ask 10, 11... 20 questions, which would increase your probability of winning to be greater than 50% (12/20 > 50), making it fair for you. "
   ]
  },
  {
   "cell_type": "markdown",
   "metadata": {},
   "source": [
    "## Question 3\n"
   ]
  },
  {
   "cell_type": "code",
   "execution_count": 13,
   "metadata": {},
   "outputs": [
    {
     "data": {
      "text/plain": [
       "15.339502088876621"
      ]
     },
     "execution_count": 13,
     "metadata": {},
     "output_type": "execute_result"
    }
   ],
   "source": [
    "#uniform frequency\n",
    "p_3 = []\n",
    "\n",
    "for i in range(len(df[\"words\"])):\n",
    "    p_3.append(1/len(df[\"words\"]))\n",
    "\n",
    "hx(p_3)"
   ]
  },
  {
   "cell_type": "markdown",
   "metadata": {},
   "source": [
    "Here, we see that the entropy with a uniform selection of the word is 15.3. Using the same logic as in part 2, this would not be a fair game, because you would need on average 15 bits of information to guess the word. You could ask 5 additional questions; however, this would put your chances of guessing it right to be much less than 50%. Thus, this game is not fair for you."
   ]
  },
  {
   "cell_type": "markdown",
   "metadata": {},
   "source": [
    "## Question 4"
   ]
  },
  {
   "cell_type": "code",
   "execution_count": 157,
   "metadata": {
    "scrolled": true
   },
   "outputs": [],
   "source": [
    "letters = ['a', 'b', 'c', 'd', 'e', 'f', 'g', 'h', 'i', \n",
    "           'j', 'k', 'l', 'm', 'n', 'o', 'p', 'q', 'r', \n",
    "           's', 't', 'u', 'v', 'w', 'x', 'y', 'z']\n",
    "df['first_letter'] = df['words'].astype(str).str[0]\n",
    "total = len(df[\"words\"])\n",
    "condo_first = []\n",
    "#frequency of all letters starting with one letter\n",
    "for l in letters:\n",
    "    #frequency of all that start with letter L\n",
    "    freq_letter = []\n",
    "    #probability = freq(cat)/freq(all c's)\n",
    "    prob_temp = []\n",
    "    for i in range(total):\n",
    "        if df[\"first_letter\"][i] == l:\n",
    "            #collect all the words with same letters\n",
    "            freq_letter.append(float(df.loc[i][1]))\n",
    "    #find denominator values\n",
    "    summ = np.cumsum(freq_letter)[-1]\n",
    "    for i in range(len(freq_letter)):\n",
    "        prob_temp.append(freq_letter[i]/summ)\n",
    "    condo_first.append(hx(prob_temp))"
   ]
  },
  {
   "cell_type": "code",
   "execution_count": 46,
   "metadata": {},
   "outputs": [
    {
     "data": {
      "image/png": "[encoded data removed]",
      "text/plain": [
       "<Figure size 432x288 with 1 Axes>"
      ]
     },
     "metadata": {
      "needs_background": "light"
     },
     "output_type": "display_data"
    }
   ],
   "source": [
    "#plotting\n",
    "plt.bar(letters, condo_first)\n",
    "plt.xlabel(\"letter\")\n",
    "plt.ylabel(\"entropy\")\n",
    "plt.title(\"Conditional Entropy given the First Character\")\n",
    "plt.show()"
   ]
  },
  {
   "cell_type": "markdown",
   "metadata": {},
   "source": [
    "## Question 5"
   ]
  },
  {
   "cell_type": "code",
   "execution_count": 179,
   "metadata": {
    "scrolled": true
   },
   "outputs": [
    {
     "data": {
      "text/html": [
       "<div>\n",
       "<style scoped>\n",
       "    .dataframe tbody tr th:only-of-type {\n",
       "        vertical-align: middle;\n",
       "    }\n",
       "\n",
       "    .dataframe tbody tr th {\n",
       "        vertical-align: top;\n",
       "    }\n",
       "\n",
       "    .dataframe thead th {\n",
       "        text-align: right;\n",
       "    }\n",
       "</style>\n",
       "<table border=\"1\" class=\"dataframe\">\n",
       "  <thead>\n",
       "    <tr style=\"text-align: right;\">\n",
       "      <th></th>\n",
       "      <th>words</th>\n",
       "      <th>frequency</th>\n",
       "      <th>first_letter</th>\n",
       "      <th>last_letter</th>\n",
       "      <th>first_vowel</th>\n",
       "    </tr>\n",
       "  </thead>\n",
       "  <tbody>\n",
       "    <tr>\n",
       "      <th>0</th>\n",
       "      <td>i</td>\n",
       "      <td>152884</td>\n",
       "      <td>i</td>\n",
       "      <td>i</td>\n",
       "      <td>i</td>\n",
       "    </tr>\n",
       "    <tr>\n",
       "      <th>1</th>\n",
       "      <td>and</td>\n",
       "      <td>128635</td>\n",
       "      <td>a</td>\n",
       "      <td>d</td>\n",
       "      <td>a</td>\n",
       "    </tr>\n",
       "    <tr>\n",
       "      <th>2</th>\n",
       "      <td>the</td>\n",
       "      <td>123648</td>\n",
       "      <td>t</td>\n",
       "      <td>e</td>\n",
       "      <td>e</td>\n",
       "    </tr>\n",
       "    <tr>\n",
       "      <th>3</th>\n",
       "      <td>you</td>\n",
       "      <td>106042</td>\n",
       "      <td>y</td>\n",
       "      <td>u</td>\n",
       "      <td>o</td>\n",
       "    </tr>\n",
       "    <tr>\n",
       "      <th>4</th>\n",
       "      <td>it</td>\n",
       "      <td>99341</td>\n",
       "      <td>i</td>\n",
       "      <td>t</td>\n",
       "      <td>i</td>\n",
       "    </tr>\n",
       "  </tbody>\n",
       "</table>\n",
       "</div>"
      ],
      "text/plain": [
       "  words  frequency first_letter last_letter first_vowel\n",
       "0     i     152884            i           i           i\n",
       "1   and     128635            a           d           a\n",
       "2   the     123648            t           e           e\n",
       "3   you     106042            y           u           o\n",
       "4    it      99341            i           t           i"
      ]
     },
     "execution_count": 179,
     "metadata": {},
     "output_type": "execute_result"
    }
   ],
   "source": [
    "#making last letter row\n",
    "df['last_letter'] = df['words'].astype(str).str[-1]\n",
    "num_of_words = len(df)\n",
    "vowels = ['a', 'e', 'i', 'o', 'u']\n",
    "\n",
    "#make a column with first vowel\n",
    "v = []\n",
    "def has_vowel(l):\n",
    "    check = []\n",
    "    for i in l:\n",
    "        if i in vowels:\n",
    "            check.append(\"yes\")\n",
    "    if len(check) == 0:\n",
    "        return 0\n",
    "    else:\n",
    "        return 1\n",
    "for i in range(num_of_words):\n",
    "    word = str(df[\"words\"][i])\n",
    "    if has_vowel(word) == 0:\n",
    "        v.append(\"na\")\n",
    "    else:\n",
    "        for letter in word:\n",
    "            if letter in vowels:\n",
    "                v.append(letter)\n",
    "                break\n",
    "df[\"first_vowel\"] = v\n",
    "            \n",
    "#vowel frequency\n",
    "vowels_word_count = {'a' : 0,\n",
    "                    'e' : 0,\n",
    "                    'i' : 0,\n",
    "                    'o' : 0,\n",
    "                    'u' : 0}\n",
    "for row in range(num_of_words):\n",
    "    for letter in str(df.iloc[row, 0]):\n",
    "        if letter in vowels:\n",
    "            vowels_word_count[letter] += df.iloc[row, 1]\n",
    "            break\n",
    "df.head()"
   ]
  },
  {
   "cell_type": "code",
   "execution_count": 224,
   "metadata": {},
   "outputs": [
    {
     "data": {
      "text/plain": [
       "{'a': 845203, 'e': 833444, 'i': 699639, 'o': 973579, 'u': 315309}"
      ]
     },
     "execution_count": 224,
     "metadata": {},
     "output_type": "execute_result"
    }
   ],
   "source": [
    "vowels_word_count"
   ]
  },
  {
   "cell_type": "code",
   "execution_count": 233,
   "metadata": {},
   "outputs": [],
   "source": [
    "#first letter\n",
    "mutual_info = []\n",
    "\n",
    "pxd=[]\n",
    "prob_outer = []\n",
    "\n",
    "for l in letters:\n",
    "    summat = 0\n",
    "    pr_temp = []\n",
    "    p = []\n",
    "    freq = []\n",
    "    #count: all frequencies, summat = frequency of the specific letter\n",
    "    count = 0\n",
    "    for i in range(len(df[\"words\"])):\n",
    "        freq.append(df.loc[i][1])\n",
    "        count += freq[i]\n",
    "    for i in range(len(df[\"words\"])):\n",
    "        p.append(freq[i]/count)\n",
    "    #for loop to get the final value of the denominator\n",
    "    for i in range(total):\n",
    "        if df[\"first_letter\"][i] == l:\n",
    "            summat += p[i]\n",
    "    #separate for loop to get the probabilities to pass into hx()\n",
    "    for i in range(total):\n",
    "        if df[\"first_letter\"][i] == l:\n",
    "            pr_temp.append(p[i] / summat)\n",
    "    #append to preset arrays\n",
    "    prob_outer.append(summat)\n",
    "    pxd.append(hx(pr_temp))\n",
    "\n",
    "#subtracting to find true mutual information\n",
    "mutual_info.append(hx(p))\n",
    "reduced = np.dot(prob_outer, pxd)\n",
    "mutual_info[0] -= reduced\n"
   ]
  },
  {
   "cell_type": "code",
   "execution_count": null,
   "metadata": {},
   "outputs": [],
   "source": [
    "#last letter\n",
    "#same algorithm as first letter\n",
    "pxd=[]\n",
    "prob_outer = []\n",
    "for l in letters:\n",
    "    summat = 0\n",
    "    pr_temp = []\n",
    "    p = []\n",
    "    freq = []\n",
    "    count = 0\n",
    "    for i in range(len(df[\"words\"])):\n",
    "        freq.append(df.loc[i][1])\n",
    "        count += freq[i]\n",
    "    for i in range(len(df[\"words\"])):\n",
    "        p.append(freq[i]/count)\n",
    "    #for loop to get the final value of the denominator\n",
    "    for i in range(total):\n",
    "        if df[\"last_letter\"][i] == l:\n",
    "            summat += p[i]\n",
    "    #separate for loop to get the probabilities to pass into hx()\n",
    "    for i in range(total):\n",
    "        if df[\"last_letter\"][i] == l:\n",
    "            pr_temp.append(p[i] / summat)\n",
    "    prob_outer.append(summat)\n",
    "    pxd.append(hx(pr_temp))\n",
    "\n",
    "#subtracting to find true mutual information\n",
    "mutual_info.append(hx(p))\n",
    "reduced = np.dot(prob_outer, pxd)\n",
    "mutual_info[1] -= reduced\n"
   ]
  },
  {
   "cell_type": "code",
   "execution_count": null,
   "metadata": {},
   "outputs": [],
   "source": [
    "#first vowel\n",
    "pxd = []\n",
    "prob_outer = []\n",
    "tot = vowels_word_count['a'] + vowels_word_count['e'] + vowels_word_count['i'] \n",
    "+ vowels_word_count['o'] + vowels_word_count['u']\n",
    "for v in vowels:\n",
    "    pr_temp = []\n",
    "    v_freq = vowels_word_count[v]/tot\n",
    "    for i in range(total):\n",
    "        if df[\"first_vowel\"][i] == v:\n",
    "            pr_temp.append(p[i] / v_freq)\n",
    "    prob_outer.append(v_freq)\n",
    "    pxd.append(hx(pr_temp))\n",
    "\n",
    "#subtracting to find true mutual information\n",
    "mutual_info.append(hx(p))\n",
    "reduced = np.dot(prob_outer, pxd)\n",
    "mutual_info[2] -= reduced"
   ]
  },
  {
   "cell_type": "code",
   "execution_count": 230,
   "metadata": {
    "scrolled": true
   },
   "outputs": [
    {
     "data": {
      "image/png": "[encoded data removed]",
      "text/plain": [
       "<Figure size 432x288 with 1 Axes>"
      ]
     },
     "metadata": {
      "needs_background": "light"
     },
     "output_type": "display_data"
    }
   ],
   "source": [
    "#plotting\n",
    "labels = [\"First Letter\", \"Last Letter\", \"First Vowel\"]\n",
    "plt.bar(labels, mutual_info)\n",
    "plt.xlabel(\"Letter Placement\")\n",
    "plt.ylabel(\"Mutual Information\")\n",
    "plt.title(\"Mutual Information based on Letter Location Within Word\")\n",
    "plt.show()"
   ]
  },
  {
   "cell_type": "markdown",
   "metadata": {},
   "source": [
    "I would predict that the first letter is the most important for word recongition. By definition, the greater the mutual information, the greater your uncertainty is reduced. Based on the graph above, the first letter carries the most amount of mutual information, which would reduce your uncertainty by the greatest amount."
   ]
  },
  {
   "cell_type": "markdown",
   "metadata": {},
   "source": [
    "## Question 6"
   ]
  },
  {
   "cell_type": "code",
   "execution_count": 201,
   "metadata": {
    "scrolled": true
   },
   "outputs": [
    {
     "data": {
      "text/html": [
       "<div>\n",
       "<style scoped>\n",
       "    .dataframe tbody tr th:only-of-type {\n",
       "        vertical-align: middle;\n",
       "    }\n",
       "\n",
       "    .dataframe tbody tr th {\n",
       "        vertical-align: top;\n",
       "    }\n",
       "\n",
       "    .dataframe thead th {\n",
       "        text-align: right;\n",
       "    }\n",
       "</style>\n",
       "<table border=\"1\" class=\"dataframe\">\n",
       "  <thead>\n",
       "    <tr style=\"text-align: right;\">\n",
       "      <th></th>\n",
       "      <th>words</th>\n",
       "      <th>frequency</th>\n",
       "      <th>first_letter</th>\n",
       "      <th>last_letter</th>\n",
       "      <th>first_vowel</th>\n",
       "      <th>length</th>\n",
       "    </tr>\n",
       "  </thead>\n",
       "  <tbody>\n",
       "    <tr>\n",
       "      <th>0</th>\n",
       "      <td>i</td>\n",
       "      <td>152884</td>\n",
       "      <td>i</td>\n",
       "      <td>i</td>\n",
       "      <td>i</td>\n",
       "      <td>1</td>\n",
       "    </tr>\n",
       "    <tr>\n",
       "      <th>1</th>\n",
       "      <td>and</td>\n",
       "      <td>128635</td>\n",
       "      <td>a</td>\n",
       "      <td>d</td>\n",
       "      <td>a</td>\n",
       "      <td>3</td>\n",
       "    </tr>\n",
       "    <tr>\n",
       "      <th>2</th>\n",
       "      <td>the</td>\n",
       "      <td>123648</td>\n",
       "      <td>t</td>\n",
       "      <td>e</td>\n",
       "      <td>e</td>\n",
       "      <td>3</td>\n",
       "    </tr>\n",
       "    <tr>\n",
       "      <th>3</th>\n",
       "      <td>you</td>\n",
       "      <td>106042</td>\n",
       "      <td>y</td>\n",
       "      <td>u</td>\n",
       "      <td>o</td>\n",
       "      <td>3</td>\n",
       "    </tr>\n",
       "    <tr>\n",
       "      <th>4</th>\n",
       "      <td>it</td>\n",
       "      <td>99341</td>\n",
       "      <td>i</td>\n",
       "      <td>t</td>\n",
       "      <td>i</td>\n",
       "      <td>2</td>\n",
       "    </tr>\n",
       "  </tbody>\n",
       "</table>\n",
       "</div>"
      ],
      "text/plain": [
       "  words  frequency first_letter last_letter first_vowel  length\n",
       "0     i     152884            i           i           i       1\n",
       "1   and     128635            a           d           a       3\n",
       "2   the     123648            t           e           e       3\n",
       "3   you     106042            y           u           o       3\n",
       "4    it      99341            i           t           i       2"
      ]
     },
     "execution_count": 201,
     "metadata": {},
     "output_type": "execute_result"
    }
   ],
   "source": [
    "#add new column to df of length of word\n",
    "l = []\n",
    "for i in range(total):\n",
    "    l.append(len(str(df[\"words\"][i])))\n",
    "df[\"length\"] = l\n",
    "max_length = max(l)\n",
    "df.head()"
   ]
  },
  {
   "cell_type": "code",
   "execution_count": 231,
   "metadata": {},
   "outputs": [],
   "source": [
    "surprisals = []\n",
    "lengths = range(1, max_length + 1)\n",
    "for i in lengths:\n",
    "    #append frequency if the length matches the iteration\n",
    "    freq_list = []\n",
    "    for j in range(total):\n",
    "        if df[\"length\"][j] == i:\n",
    "            freq_list.append(float(df.loc[j][1]))\n",
    "    #0 case\n",
    "    if len(freq_list) == 0:\n",
    "        surprisals.append(0)\n",
    "    #surprisal definition\n",
    "    else:\n",
    "        div = np.cumsum(freq_list)[-1]\n",
    "        freq_list = [x/div for x in freq_list]\n",
    "        freq_list = [-np.log2(x) for x in freq_list]\n",
    "        surprisals.append(np.mean(freq_list))"
   ]
  },
  {
   "cell_type": "code",
   "execution_count": 222,
   "metadata": {},
   "outputs": [
    {
     "data": {
      "image/png": "[encoded data removed]",
      "text/plain": [
       "<Figure size 432x288 with 1 Axes>"
      ]
     },
     "metadata": {
      "needs_background": "light"
     },
     "output_type": "display_data"
    }
   ],
   "source": [
    "#plotting\n",
    "plt.bar(lengths, surprisals)\n",
    "plt.title(\"Average Surprisals for Different Word Lengths\")\n",
    "plt.xlabel(\"Word Length\")\n",
    "plt.ylabel(\"Average Surprisal\")\n",
    "plt.show()"
   ]
  },
  {
   "cell_type": "markdown",
   "metadata": {},
   "source": [
    "I would expect that an efficient code in Shannon's sense would have a consistently increasing surprisal. We know that surprisal is defined as -log(p). That means that if a word has a high frequency, then it does not need as much information to convey itself, which means that it should have a low surprisal. Conversely, a low frequency word should have a higher surprisal. In this graph, we can see that English is not an efficient code, because words with the highest frequencies, which are words with generally shorter lengths, have the highest surprisal, while words with the longest lengths have the smallest surprisals. This is the inverse of what we expect an efficient code to be."
   ]
  },
  {
   "cell_type": "markdown",
   "metadata": {},
   "source": [
    "## Question 7"
   ]
  },
  {
   "cell_type": "markdown",
   "metadata": {},
   "source": [
    "My way to determine efficiency would be to subtract the surprisal value from the entropy value."
   ]
  }
 ],
 "metadata": {
  "kernelspec": {
   "display_name": "Python 3",
   "language": "python",
   "name": "python3"
  },
  "language_info": {
   "codemirror_mode": {
    "name": "ipython",
    "version": 3
   },
   "file_extension": ".py",
   "mimetype": "text/x-python",
   "name": "python",
   "nbconvert_exporter": "python",
   "pygments_lexer": "ipython3",
   "version": "3.7.1"
  }
 },
 "nbformat": 4,
 "nbformat_minor": 4
}
